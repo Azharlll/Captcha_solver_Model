{
 "cells": [
  {
   "cell_type": "code",
   "execution_count": 1,
   "metadata": {},
   "outputs": [],
   "source": [
    "import numpy as np \n",
    "import pandas as pd\n",
    "%matplotlib inline \n",
    "import matplotlib.pyplot as plt\n",
    "import os\n",
    "#print(os.listdir(\"C:/Users/user/Downloads/captchas/images\"))"
   ]
  },
  {
   "cell_type": "code",
   "execution_count": 2,
   "metadata": {},
   "outputs": [],
   "source": [
    "import os\n",
    "import os.path\n",
    "import glob\n",
    "import cv2\n",
    "import random"
   ]
  },
  {
   "cell_type": "code",
   "execution_count": 3,
   "metadata": {},
   "outputs": [],
   "source": [
    "#Finding all the unique letters of dataset\n",
    "CAPTCHA_IMAGE_FOLDER ='C:/Users/user/Downloads/captchass/images'\n",
    "# List of captchas.\n",
    "captcha_images = glob.glob(os.path.join(CAPTCHA_IMAGE_FOLDER, \"*\"))\n",
    "List_letters=[]\n",
    "for (i, captcha_image) in enumerate(captcha_images):\n",
    "    #print(\"Image {}/{}\".format(i + 1, len(captcha_image)))\n",
    "\n",
    "    # Get the letter labels from the imgae names.\n",
    "    filename = os.path.basename(captcha_image)\n",
    "    captcha_correct_text = os.path.splitext(filename)[0]\n",
    "    List_letters.append(captcha_correct_text)"
   ]
  },
  {
   "cell_type": "code",
   "execution_count": 4,
   "metadata": {},
   "outputs": [],
   "source": [
    "list2_letters=[]\n",
    "for i in List_letters:\n",
    "    for j in i:\n",
    "        list2_letters.append(j)\n",
    "unique=set(list2_letters)\n",
    "unique_list=[]\n",
    "for i in unique:\n",
    "    unique_list.append(i)\n",
    "unique_list.remove(' ')  \n",
    "str1=''\n",
    "str2=str1.join(unique_list)"
   ]
  },
  {
   "cell_type": "code",
   "execution_count": 5,
   "metadata": {
    "scrolled": true
   },
   "outputs": [
    {
     "data": {
      "text/plain": [
       "'EPKMDTBAGIHFYOWUXRCVQNJL'"
      ]
     },
     "execution_count": 5,
     "metadata": {},
     "output_type": "execute_result"
    }
   ],
   "source": [
    "str2"
   ]
  },
  {
   "cell_type": "code",
   "execution_count": 13,
   "metadata": {},
   "outputs": [
    {
     "name": "stderr",
     "output_type": "stream",
     "text": [
      "Using TensorFlow backend.\n",
      "C:\\Users\\user\\AppData\\Roaming\\Python\\Python37\\site-packages\\tensorflow\\python\\framework\\dtypes.py:516: FutureWarning: Passing (type, 1) or '1type' as a synonym of type is deprecated; in a future version of numpy, it will be understood as (type, (1,)) / '(1,)type'.\n",
      "  _np_qint8 = np.dtype([(\"qint8\", np.int8, 1)])\n",
      "C:\\Users\\user\\AppData\\Roaming\\Python\\Python37\\site-packages\\tensorflow\\python\\framework\\dtypes.py:517: FutureWarning: Passing (type, 1) or '1type' as a synonym of type is deprecated; in a future version of numpy, it will be understood as (type, (1,)) / '(1,)type'.\n",
      "  _np_quint8 = np.dtype([(\"quint8\", np.uint8, 1)])\n",
      "C:\\Users\\user\\AppData\\Roaming\\Python\\Python37\\site-packages\\tensorflow\\python\\framework\\dtypes.py:518: FutureWarning: Passing (type, 1) or '1type' as a synonym of type is deprecated; in a future version of numpy, it will be understood as (type, (1,)) / '(1,)type'.\n",
      "  _np_qint16 = np.dtype([(\"qint16\", np.int16, 1)])\n",
      "C:\\Users\\user\\AppData\\Roaming\\Python\\Python37\\site-packages\\tensorflow\\python\\framework\\dtypes.py:519: FutureWarning: Passing (type, 1) or '1type' as a synonym of type is deprecated; in a future version of numpy, it will be understood as (type, (1,)) / '(1,)type'.\n",
      "  _np_quint16 = np.dtype([(\"quint16\", np.uint16, 1)])\n",
      "C:\\Users\\user\\AppData\\Roaming\\Python\\Python37\\site-packages\\tensorflow\\python\\framework\\dtypes.py:520: FutureWarning: Passing (type, 1) or '1type' as a synonym of type is deprecated; in a future version of numpy, it will be understood as (type, (1,)) / '(1,)type'.\n",
      "  _np_qint32 = np.dtype([(\"qint32\", np.int32, 1)])\n",
      "C:\\Users\\user\\AppData\\Roaming\\Python\\Python37\\site-packages\\tensorflow\\python\\framework\\dtypes.py:525: FutureWarning: Passing (type, 1) or '1type' as a synonym of type is deprecated; in a future version of numpy, it will be understood as (type, (1,)) / '(1,)type'.\n",
      "  np_resource = np.dtype([(\"resource\", np.ubyte, 1)])\n",
      "C:\\Users\\user\\AppData\\Roaming\\Python\\Python37\\site-packages\\tensorboard\\compat\\tensorflow_stub\\dtypes.py:541: FutureWarning: Passing (type, 1) or '1type' as a synonym of type is deprecated; in a future version of numpy, it will be understood as (type, (1,)) / '(1,)type'.\n",
      "  _np_qint8 = np.dtype([(\"qint8\", np.int8, 1)])\n",
      "C:\\Users\\user\\AppData\\Roaming\\Python\\Python37\\site-packages\\tensorboard\\compat\\tensorflow_stub\\dtypes.py:542: FutureWarning: Passing (type, 1) or '1type' as a synonym of type is deprecated; in a future version of numpy, it will be understood as (type, (1,)) / '(1,)type'.\n",
      "  _np_quint8 = np.dtype([(\"quint8\", np.uint8, 1)])\n",
      "C:\\Users\\user\\AppData\\Roaming\\Python\\Python37\\site-packages\\tensorboard\\compat\\tensorflow_stub\\dtypes.py:543: FutureWarning: Passing (type, 1) or '1type' as a synonym of type is deprecated; in a future version of numpy, it will be understood as (type, (1,)) / '(1,)type'.\n",
      "  _np_qint16 = np.dtype([(\"qint16\", np.int16, 1)])\n",
      "C:\\Users\\user\\AppData\\Roaming\\Python\\Python37\\site-packages\\tensorboard\\compat\\tensorflow_stub\\dtypes.py:544: FutureWarning: Passing (type, 1) or '1type' as a synonym of type is deprecated; in a future version of numpy, it will be understood as (type, (1,)) / '(1,)type'.\n",
      "  _np_quint16 = np.dtype([(\"quint16\", np.uint16, 1)])\n",
      "C:\\Users\\user\\AppData\\Roaming\\Python\\Python37\\site-packages\\tensorboard\\compat\\tensorflow_stub\\dtypes.py:545: FutureWarning: Passing (type, 1) or '1type' as a synonym of type is deprecated; in a future version of numpy, it will be understood as (type, (1,)) / '(1,)type'.\n",
      "  _np_qint32 = np.dtype([(\"qint32\", np.int32, 1)])\n",
      "C:\\Users\\user\\AppData\\Roaming\\Python\\Python37\\site-packages\\tensorboard\\compat\\tensorflow_stub\\dtypes.py:550: FutureWarning: Passing (type, 1) or '1type' as a synonym of type is deprecated; in a future version of numpy, it will be understood as (type, (1,)) / '(1,)type'.\n",
      "  np_resource = np.dtype([(\"resource\", np.ubyte, 1)])\n"
     ]
    }
   ],
   "source": [
    "from keras import layers\n",
    "from keras.models import Model\n",
    "from keras.models import load_model\n",
    "from keras import callbacks\n",
    "import os\n",
    "import cv2\n",
    "import string\n",
    "import numpy as np\n",
    "\n",
    "#Init main values\n",
    "symbols = str2 # All symbols captcha can contain\n",
    "num_symbols = len(symbols)\n",
    "img_shape = (70, 200, 1)"
   ]
  },
  {
   "cell_type": "code",
   "execution_count": 14,
   "metadata": {},
   "outputs": [
    {
     "data": {
      "text/plain": [
       "'EPKMDTBAGIHFYOWUXRCVQNJL'"
      ]
     },
     "execution_count": 14,
     "metadata": {},
     "output_type": "execute_result"
    }
   ],
   "source": [
    "symbols"
   ]
  },
  {
   "cell_type": "code",
   "execution_count": 15,
   "metadata": {},
   "outputs": [
    {
     "name": "stdout",
     "output_type": "stream",
     "text": [
      "24\n"
     ]
    }
   ],
   "source": [
    "print(num_symbols)"
   ]
  },
  {
   "cell_type": "code",
   "execution_count": 16,
   "metadata": {},
   "outputs": [],
   "source": [
    "def create_model():\n",
    "    img = layers.Input(shape=img_shape) # Get image as an input and process it through some Convs\n",
    "    conv1 = layers.Conv2D(16, (3, 3), padding='same', activation='relu')(img)\n",
    "    mp1 = layers.MaxPooling2D(padding='same')(conv1)  # 100x25\n",
    "    conv2 = layers.Conv2D(32, (3, 3), padding='same', activation='relu')(mp1)\n",
    "    mp2 = layers.MaxPooling2D(padding='same')(conv2)  # 50x13\n",
    "    conv3 = layers.Conv2D(32, (3, 3), padding='same', activation='relu')(mp2)\n",
    "    bn = layers.BatchNormalization()(conv3)\n",
    "    mp3 = layers.MaxPooling2D(padding='same')(bn)  # 25x7\n",
    "    \n",
    "    # Get flattened vector and make 6 branches from it. Each branch will predict one letter\n",
    "    flat = layers.Flatten()(mp3)\n",
    "    outs = []\n",
    "    for _ in range(6):\n",
    "        dens1 = layers.Dense(64, activation='relu')(flat)\n",
    "        drop = layers.Dropout(0.5)(dens1)\n",
    "        res = layers.Dense(num_symbols, activation='sigmoid')(drop)\n",
    "\n",
    "        outs.append(res)\n",
    "    # Compile model and return it\n",
    "    model = Model(img, outs)\n",
    "    model.compile(loss='categorical_crossentropy', optimizer='adam',metrics=[\"accuracy\"])\n",
    "    return model"
   ]
  },
  {
   "cell_type": "code",
   "execution_count": null,
   "metadata": {},
   "outputs": [],
   "source": []
  },
  {
   "cell_type": "code",
   "execution_count": 18,
   "metadata": {},
   "outputs": [],
   "source": [
    "#from scipy import ndimage, misc\n",
    "def preprocess_data():\n",
    "    n_samples = len((os.listdir('C:/Users/user/Downloads/captchass/images'))) # see\n",
    "    X = np.zeros((n_samples, 70, 200, 1)) #1070*50*200\n",
    "    y = np.zeros((6, n_samples, num_symbols)) #5*1070*36\n",
    "\n",
    "    #for i, pic in enumerate(os.listdir('C:/Users/user/Downloads/captchass/images')):\n",
    "    allImages = os.listdir('C:/Users/user/Downloads/captchass/images')\n",
    "    random.shuffle(allImages)\n",
    "    for i in range(len(allImages)):\n",
    "        # Read image as grayscale\n",
    "        #print(i)\n",
    "        img = cv2.imread(os.path.join('C:/Users/user/Downloads/captchass/images', allImages[i]))\n",
    "        img=cv2.cvtColor(img,cv2.COLOR_BGR2GRAY) # \n",
    "        pic_target = allImages[i][:-4]\n",
    "        if len(pic_target) == 6:\n",
    "            # Scale and reshape image\n",
    "            img = img / 255.0\n",
    "            #img=cv2.resize(img,(50,200),interpolation = cv2.INTER_AREA)\n",
    "            img = np.reshape(img, (70, 200,1))\n",
    "            # Define targets and code them using OneHotEncoding\n",
    "            targs = np.zeros((6, num_symbols))\n",
    "            for j, l in enumerate(pic_target):\n",
    "                ind = symbols.find(l)\n",
    "                targs[j, ind] = 1\n",
    "            X[i] = img\n",
    "            y[:, i] = targs\n",
    "        \n",
    "    # Return final data\n",
    "    return X, y\n",
    "\n"
   ]
  },
  {
   "cell_type": "raw",
   "metadata": {},
   "source": []
  },
  {
   "cell_type": "code",
   "execution_count": 19,
   "metadata": {},
   "outputs": [],
   "source": [
    "X, y = preprocess_data() #"
   ]
  },
  {
   "cell_type": "code",
   "execution_count": 20,
   "metadata": {},
   "outputs": [
    {
     "data": {
      "text/plain": [
       "(9836, 70, 200, 1)"
      ]
     },
     "execution_count": 20,
     "metadata": {},
     "output_type": "execute_result"
    }
   ],
   "source": [
    "X.shape"
   ]
  },
  {
   "cell_type": "code",
   "execution_count": 21,
   "metadata": {},
   "outputs": [
    {
     "data": {
      "text/plain": [
       "(6, 9836, 24)"
      ]
     },
     "execution_count": 21,
     "metadata": {},
     "output_type": "execute_result"
    }
   ],
   "source": [
    "y.shape   #....Y shape should be (9836, ...,...) how to do ??"
   ]
  },
  {
   "cell_type": "code",
   "execution_count": 22,
   "metadata": {
    "scrolled": true
   },
   "outputs": [],
   "source": [
    "#from sklearn.utils import shuffle\n",
    "#X,y=shuffle(X,y)"
   ]
  },
  {
   "cell_type": "code",
   "execution_count": 23,
   "metadata": {},
   "outputs": [],
   "source": [
    "X_train, y_train = X[:8000], y[:, :8000] \n",
    "X_test, y_test = X[8000:], y[:, 8000:]"
   ]
  },
  {
   "cell_type": "code",
   "execution_count": 24,
   "metadata": {},
   "outputs": [
    {
     "data": {
      "text/plain": [
       "(6, 9836, 24)"
      ]
     },
     "execution_count": 24,
     "metadata": {},
     "output_type": "execute_result"
    }
   ],
   "source": [
    "y.shape"
   ]
  },
  {
   "cell_type": "code",
   "execution_count": 25,
   "metadata": {},
   "outputs": [],
   "source": [
    "# from sklearn.model_selection import train_test_split\n",
    "# X_train, X_test, y_train, y_test = train_test_split(X, y, test_size=0.33, random_state=42)"
   ]
  },
  {
   "cell_type": "code",
   "execution_count": 26,
   "metadata": {},
   "outputs": [
    {
     "name": "stdout",
     "output_type": "stream",
     "text": [
      "WARNING:tensorflow:From C:\\Users\\user\\AppData\\Roaming\\Python\\Python37\\site-packages\\keras\\backend\\tensorflow_backend.py:66: The name tf.get_default_graph is deprecated. Please use tf.compat.v1.get_default_graph instead.\n",
      "\n",
      "WARNING:tensorflow:From C:\\Users\\user\\AppData\\Roaming\\Python\\Python37\\site-packages\\keras\\backend\\tensorflow_backend.py:541: The name tf.placeholder is deprecated. Please use tf.compat.v1.placeholder instead.\n",
      "\n",
      "WARNING:tensorflow:From C:\\Users\\user\\AppData\\Roaming\\Python\\Python37\\site-packages\\keras\\backend\\tensorflow_backend.py:4432: The name tf.random_uniform is deprecated. Please use tf.random.uniform instead.\n",
      "\n",
      "WARNING:tensorflow:From C:\\Users\\user\\AppData\\Roaming\\Python\\Python37\\site-packages\\keras\\backend\\tensorflow_backend.py:4267: The name tf.nn.max_pool is deprecated. Please use tf.nn.max_pool2d instead.\n",
      "\n",
      "WARNING:tensorflow:From C:\\Users\\user\\AppData\\Roaming\\Python\\Python37\\site-packages\\keras\\backend\\tensorflow_backend.py:190: The name tf.get_default_session is deprecated. Please use tf.compat.v1.get_default_session instead.\n",
      "\n",
      "WARNING:tensorflow:From C:\\Users\\user\\AppData\\Roaming\\Python\\Python37\\site-packages\\keras\\backend\\tensorflow_backend.py:197: The name tf.ConfigProto is deprecated. Please use tf.compat.v1.ConfigProto instead.\n",
      "\n",
      "WARNING:tensorflow:From C:\\Users\\user\\AppData\\Roaming\\Python\\Python37\\site-packages\\keras\\backend\\tensorflow_backend.py:2041: The name tf.nn.fused_batch_norm is deprecated. Please use tf.compat.v1.nn.fused_batch_norm instead.\n",
      "\n",
      "WARNING:tensorflow:From C:\\Users\\user\\AppData\\Roaming\\Python\\Python37\\site-packages\\keras\\backend\\tensorflow_backend.py:3733: calling dropout (from tensorflow.python.ops.nn_ops) with keep_prob is deprecated and will be removed in a future version.\n",
      "Instructions for updating:\n",
      "Please use `rate` instead of `keep_prob`. Rate should be set to `rate = 1 - keep_prob`.\n",
      "WARNING:tensorflow:From C:\\Users\\user\\AppData\\Roaming\\Python\\Python37\\site-packages\\keras\\optimizers.py:793: The name tf.train.Optimizer is deprecated. Please use tf.compat.v1.train.Optimizer instead.\n",
      "\n",
      "Model: \"model_1\"\n",
      "__________________________________________________________________________________________________\n",
      "Layer (type)                    Output Shape         Param #     Connected to                     \n",
      "==================================================================================================\n",
      "input_1 (InputLayer)            (None, 70, 200, 1)   0                                            \n",
      "__________________________________________________________________________________________________\n",
      "conv2d_1 (Conv2D)               (None, 70, 200, 16)  160         input_1[0][0]                    \n",
      "__________________________________________________________________________________________________\n",
      "max_pooling2d_1 (MaxPooling2D)  (None, 35, 100, 16)  0           conv2d_1[0][0]                   \n",
      "__________________________________________________________________________________________________\n",
      "conv2d_2 (Conv2D)               (None, 35, 100, 32)  4640        max_pooling2d_1[0][0]            \n",
      "__________________________________________________________________________________________________\n",
      "max_pooling2d_2 (MaxPooling2D)  (None, 18, 50, 32)   0           conv2d_2[0][0]                   \n",
      "__________________________________________________________________________________________________\n",
      "conv2d_3 (Conv2D)               (None, 18, 50, 32)   9248        max_pooling2d_2[0][0]            \n",
      "__________________________________________________________________________________________________\n",
      "batch_normalization_1 (BatchNor (None, 18, 50, 32)   128         conv2d_3[0][0]                   \n",
      "__________________________________________________________________________________________________\n",
      "max_pooling2d_3 (MaxPooling2D)  (None, 9, 25, 32)    0           batch_normalization_1[0][0]      \n",
      "__________________________________________________________________________________________________\n",
      "flatten_1 (Flatten)             (None, 7200)         0           max_pooling2d_3[0][0]            \n",
      "__________________________________________________________________________________________________\n",
      "dense_1 (Dense)                 (None, 64)           460864      flatten_1[0][0]                  \n",
      "__________________________________________________________________________________________________\n",
      "dense_3 (Dense)                 (None, 64)           460864      flatten_1[0][0]                  \n",
      "__________________________________________________________________________________________________\n",
      "dense_5 (Dense)                 (None, 64)           460864      flatten_1[0][0]                  \n",
      "__________________________________________________________________________________________________\n",
      "dense_7 (Dense)                 (None, 64)           460864      flatten_1[0][0]                  \n",
      "__________________________________________________________________________________________________\n",
      "dense_9 (Dense)                 (None, 64)           460864      flatten_1[0][0]                  \n",
      "__________________________________________________________________________________________________\n",
      "dense_11 (Dense)                (None, 64)           460864      flatten_1[0][0]                  \n",
      "__________________________________________________________________________________________________\n",
      "dropout_1 (Dropout)             (None, 64)           0           dense_1[0][0]                    \n",
      "__________________________________________________________________________________________________\n",
      "dropout_2 (Dropout)             (None, 64)           0           dense_3[0][0]                    \n",
      "__________________________________________________________________________________________________\n",
      "dropout_3 (Dropout)             (None, 64)           0           dense_5[0][0]                    \n",
      "__________________________________________________________________________________________________\n",
      "dropout_4 (Dropout)             (None, 64)           0           dense_7[0][0]                    \n",
      "__________________________________________________________________________________________________\n",
      "dropout_5 (Dropout)             (None, 64)           0           dense_9[0][0]                    \n",
      "__________________________________________________________________________________________________\n",
      "dropout_6 (Dropout)             (None, 64)           0           dense_11[0][0]                   \n",
      "__________________________________________________________________________________________________\n",
      "dense_2 (Dense)                 (None, 24)           1560        dropout_1[0][0]                  \n",
      "__________________________________________________________________________________________________\n",
      "dense_4 (Dense)                 (None, 24)           1560        dropout_2[0][0]                  \n",
      "__________________________________________________________________________________________________\n",
      "dense_6 (Dense)                 (None, 24)           1560        dropout_3[0][0]                  \n",
      "__________________________________________________________________________________________________\n",
      "dense_8 (Dense)                 (None, 24)           1560        dropout_4[0][0]                  \n",
      "__________________________________________________________________________________________________\n",
      "dense_10 (Dense)                (None, 24)           1560        dropout_5[0][0]                  \n",
      "__________________________________________________________________________________________________\n",
      "dense_12 (Dense)                (None, 24)           1560        dropout_6[0][0]                  \n",
      "==================================================================================================\n",
      "Total params: 2,788,720\n",
      "Trainable params: 2,788,656\n",
      "Non-trainable params: 64\n",
      "__________________________________________________________________________________________________\n"
     ]
    }
   ],
   "source": [
    "model=create_model();\n",
    "model.summary();"
   ]
  },
  {
   "cell_type": "code",
   "execution_count": 27,
   "metadata": {},
   "outputs": [
    {
     "name": "stdout",
     "output_type": "stream",
     "text": [
      "WARNING:tensorflow:From C:\\Users\\user\\AppData\\Roaming\\Python\\Python37\\site-packages\\tensorflow\\python\\ops\\math_grad.py:1250: add_dispatch_support.<locals>.wrapper (from tensorflow.python.ops.array_ops) is deprecated and will be removed in a future version.\n",
      "Instructions for updating:\n",
      "Use tf.where in 2.0, which has the same broadcast rule as np.where\n",
      "Train on 6400 samples, validate on 1600 samples\n",
      "Epoch 1/10\n",
      "6400/6400 [==============================] - 209s 33ms/step - loss: 17.8597 - dense_2_loss: 2.8297 - dense_4_loss: 2.9935 - dense_6_loss: 2.9839 - dense_8_loss: 2.9241 - dense_10_loss: 3.0821 - dense_12_loss: 3.0464 - dense_2_acc: 0.0880 - dense_4_acc: 0.0667 - dense_6_acc: 0.0687 - dense_8_acc: 0.0761 - dense_10_acc: 0.0638 - dense_12_acc: 0.0634 - val_loss: 16.2056 - val_dense_2_loss: 2.2850 - val_dense_4_loss: 2.7027 - val_dense_6_loss: 2.9373 - val_dense_8_loss: 2.5749 - val_dense_10_loss: 2.9401 - val_dense_12_loss: 2.7656 - val_dense_2_acc: 0.2700 - val_dense_4_acc: 0.2025 - val_dense_6_acc: 0.1294 - val_dense_8_acc: 0.1594 - val_dense_10_acc: 0.0850 - val_dense_12_acc: 0.0762\n",
      "Epoch 2/10\n",
      "6400/6400 [==============================] - 85s 13ms/step - loss: 14.6881 - dense_2_loss: 1.7742 - dense_4_loss: 2.4960 - dense_6_loss: 2.5128 - dense_8_loss: 2.4824 - dense_10_loss: 2.7944 - dense_12_loss: 2.6284 - dense_2_acc: 0.3284 - dense_4_acc: 0.1389 - dense_6_acc: 0.1309 - dense_8_acc: 0.1027 - dense_10_acc: 0.0950 - dense_12_acc: 0.1122 - val_loss: 10.5673 - val_dense_2_loss: 0.3880 - val_dense_4_loss: 1.8206 - val_dense_6_loss: 1.9065 - val_dense_8_loss: 1.9914 - val_dense_10_loss: 2.4306 - val_dense_12_loss: 2.0301 - val_dense_2_acc: 0.9113 - val_dense_4_acc: 0.4250 - val_dense_6_acc: 0.3713 - val_dense_8_acc: 0.1294 - val_dense_10_acc: 0.1800 - val_dense_12_acc: 0.1675\n",
      "Epoch 3/10\n",
      "6400/6400 [==============================] - 84s 13ms/step - loss: 11.4890 - dense_2_loss: 0.9674 - dense_4_loss: 1.9008 - dense_6_loss: 1.9725 - dense_8_loss: 1.9322 - dense_10_loss: 2.4988 - dense_12_loss: 2.2172 - dense_2_acc: 0.6067 - dense_4_acc: 0.3052 - dense_6_acc: 0.2484 - dense_8_acc: 0.2445 - dense_10_acc: 0.1164 - dense_12_acc: 0.1600 - val_loss: 6.0542 - val_dense_2_loss: 0.0489 - val_dense_4_loss: 0.7569 - val_dense_6_loss: 0.9994 - val_dense_8_loss: 0.9015 - val_dense_10_loss: 1.8755 - val_dense_12_loss: 1.4720 - val_dense_2_acc: 0.9981 - val_dense_4_acc: 0.7956 - val_dense_6_acc: 0.7562 - val_dense_8_acc: 0.7163 - val_dense_10_acc: 0.2544 - val_dense_12_acc: 0.4275\n",
      "Epoch 4/10\n",
      "6400/6400 [==============================] - 82s 13ms/step - loss: 9.5424 - dense_2_loss: 0.7320 - dense_4_loss: 1.4568 - dense_6_loss: 1.5876 - dense_8_loss: 1.5220 - dense_10_loss: 2.2874 - dense_12_loss: 1.9567 - dense_2_acc: 0.6830 - dense_4_acc: 0.4316 - dense_6_acc: 0.3838 - dense_8_acc: 0.4030 - dense_10_acc: 0.1706 - dense_12_acc: 0.2431 - val_loss: 4.4523 - val_dense_2_loss: 0.0470 - val_dense_4_loss: 0.3780 - val_dense_6_loss: 0.7219 - val_dense_8_loss: 0.5698 - val_dense_10_loss: 1.6132 - val_dense_12_loss: 1.1224 - val_dense_2_acc: 0.9981 - val_dense_4_acc: 0.9050 - val_dense_6_acc: 0.8131 - val_dense_8_acc: 0.8244 - val_dense_10_acc: 0.4769 - val_dense_12_acc: 0.6531\n",
      "Epoch 5/10\n",
      "6400/6400 [==============================] - 107s 17ms/step - loss: 8.5779 - dense_2_loss: 0.6180 - dense_4_loss: 1.2328 - dense_6_loss: 1.4239 - dense_8_loss: 1.3300 - dense_10_loss: 2.1587 - dense_12_loss: 1.8145 - dense_2_acc: 0.7302 - dense_4_acc: 0.5055 - dense_6_acc: 0.4461 - dense_8_acc: 0.4608 - dense_10_acc: 0.2091 - dense_12_acc: 0.2927 - val_loss: 3.4515 - val_dense_2_loss: 0.0306 - val_dense_4_loss: 0.2875 - val_dense_6_loss: 0.4145 - val_dense_8_loss: 0.4111 - val_dense_10_loss: 1.4647 - val_dense_12_loss: 0.8431 - val_dense_2_acc: 0.9950 - val_dense_4_acc: 0.9363 - val_dense_6_acc: 0.9050 - val_dense_8_acc: 0.8594 - val_dense_10_acc: 0.6325 - val_dense_12_acc: 0.7931\n",
      "Epoch 6/10\n",
      "6400/6400 [==============================] - 115s 18ms/step - loss: 7.7555 - dense_2_loss: 0.5623 - dense_4_loss: 1.1057 - dense_6_loss: 1.1731 - dense_8_loss: 1.1973 - dense_10_loss: 2.0523 - dense_12_loss: 1.6648 - dense_2_acc: 0.7603 - dense_4_acc: 0.5395 - dense_6_acc: 0.5366 - dense_8_acc: 0.5209 - dense_10_acc: 0.2494 - dense_12_acc: 0.3230 - val_loss: 2.9976 - val_dense_2_loss: 0.0344 - val_dense_4_loss: 0.2158 - val_dense_6_loss: 0.4044 - val_dense_8_loss: 0.3893 - val_dense_10_loss: 1.2136 - val_dense_12_loss: 0.7402 - val_dense_2_acc: 0.9975 - val_dense_4_acc: 0.9519 - val_dense_6_acc: 0.8931 - val_dense_8_acc: 0.9175 - val_dense_10_acc: 0.7238 - val_dense_12_acc: 0.7963\n",
      "Epoch 7/10\n",
      "6400/6400 [==============================] - ETA: 0s - loss: 7.1888 - dense_2_loss: 0.5548 - dense_4_loss: 0.9900 - dense_6_loss: 1.0294 - dense_8_loss: 1.0954 - dense_10_loss: 1.9438 - dense_12_loss: 1.5754 - dense_2_acc: 0.7666 - dense_4_acc: 0.5970 - dense_6_acc: 0.5812 - dense_8_acc: 0.5634 - dense_10_acc: 0.2748 - dense_12_acc: 0.368 - 119s 19ms/step - loss: 7.1853 - dense_2_loss: 0.5548 - dense_4_loss: 0.9899 - dense_6_loss: 1.0282 - dense_8_loss: 1.0946 - dense_10_loss: 1.9430 - dense_12_loss: 1.5749 - dense_2_acc: 0.7669 - dense_4_acc: 0.5973 - dense_6_acc: 0.5817 - dense_8_acc: 0.5633 - dense_10_acc: 0.2758 - dense_12_acc: 0.3689 - val_loss: 2.5248 - val_dense_2_loss: 0.0334 - val_dense_4_loss: 0.1418 - val_dense_6_loss: 0.2730 - val_dense_8_loss: 0.3072 - val_dense_10_loss: 1.1559 - val_dense_12_loss: 0.6135 - val_dense_2_acc: 0.9950 - val_dense_4_acc: 0.9769 - val_dense_6_acc: 0.9587 - val_dense_8_acc: 0.9463 - val_dense_10_acc: 0.7025 - val_dense_12_acc: 0.8762\n",
      "Epoch 8/10\n",
      "6400/6400 [==============================] - 120s 19ms/step - loss: 6.5231 - dense_2_loss: 0.5225 - dense_4_loss: 0.8516 - dense_6_loss: 0.9161 - dense_8_loss: 0.9938 - dense_10_loss: 1.7470 - dense_12_loss: 1.4921 - dense_2_acc: 0.7809 - dense_4_acc: 0.6494 - dense_6_acc: 0.6239 - dense_8_acc: 0.6034 - dense_10_acc: 0.3253 - dense_12_acc: 0.3953 - val_loss: 2.1669 - val_dense_2_loss: 0.0314 - val_dense_4_loss: 0.1526 - val_dense_6_loss: 0.2298 - val_dense_8_loss: 0.3086 - val_dense_10_loss: 0.8853 - val_dense_12_loss: 0.5593 - val_dense_2_acc: 0.9950 - val_dense_4_acc: 0.9513 - val_dense_6_acc: 0.9600 - val_dense_8_acc: 0.9319 - val_dense_10_acc: 0.7662 - val_dense_12_acc: 0.8938\n",
      "Epoch 9/10\n",
      "6400/6400 [==============================] - 119s 19ms/step - loss: 6.0326 - dense_2_loss: 0.4830 - dense_4_loss: 0.7774 - dense_6_loss: 0.8570 - dense_8_loss: 0.9108 - dense_10_loss: 1.5677 - dense_12_loss: 1.4367 - dense_2_acc: 0.7948 - dense_4_acc: 0.6788 - dense_6_acc: 0.6491 - dense_8_acc: 0.6339 - dense_10_acc: 0.3791 - dense_12_acc: 0.4213 - val_loss: 1.8956 - val_dense_2_loss: 0.0310 - val_dense_4_loss: 0.1410 - val_dense_6_loss: 0.2431 - val_dense_8_loss: 0.2631 - val_dense_10_loss: 0.7838 - val_dense_12_loss: 0.4336 - val_dense_2_acc: 0.9950 - val_dense_4_acc: 0.9762 - val_dense_6_acc: 0.9631 - val_dense_8_acc: 0.9506 - val_dense_10_acc: 0.8350 - val_dense_12_acc: 0.9069\n",
      "Epoch 10/10\n",
      "6400/6400 [==============================] - 119s 19ms/step - loss: 5.7082 - dense_2_loss: 0.4492 - dense_4_loss: 0.6431 - dense_6_loss: 0.8233 - dense_8_loss: 0.8606 - dense_10_loss: 1.5023 - dense_12_loss: 1.4297 - dense_2_acc: 0.8080 - dense_4_acc: 0.7312 - dense_6_acc: 0.6622 - dense_8_acc: 0.6494 - dense_10_acc: 0.4011 - dense_12_acc: 0.4205 - val_loss: 1.6085 - val_dense_2_loss: 0.0317 - val_dense_4_loss: 0.1064 - val_dense_6_loss: 0.2134 - val_dense_8_loss: 0.2228 - val_dense_10_loss: 0.5938 - val_dense_12_loss: 0.4405 - val_dense_2_acc: 0.9950 - val_dense_4_acc: 0.9738 - val_dense_6_acc: 0.9587 - val_dense_8_acc: 0.9619 - val_dense_10_acc: 0.9075 - val_dense_12_acc: 0.9356\n"
     ]
    }
   ],
   "source": [
    "hist = model.fit(X_train, [y_train[0], y_train[1], y_train[2], y_train[3], y_train[4], y_train[5]], batch_size=32, epochs=10,verbose=1, validation_split=0.2)"
   ]
  },
  {
   "cell_type": "code",
   "execution_count": 28,
   "metadata": {},
   "outputs": [],
   "source": [
    "# Pickling the trained model\n",
    "import pickle\n",
    "filename = 'Pickled_captcha_model'\n",
    "pickle.dump(model, open(filename, 'wb'))"
   ]
  },
  {
   "cell_type": "code",
   "execution_count": 29,
   "metadata": {},
   "outputs": [],
   "source": [
    "# Define function to predict captcha\n",
    "def predict(filepath):\n",
    "    img = cv2.imread(filepath, cv2.IMREAD_GRAYSCALE)\n",
    "    img=cv2.resize(img,(200,70))\n",
    "    if img is not None:\n",
    "        img = img / 255.0\n",
    "        res = np.array(model.predict(img[np.newaxis, :, :, np.newaxis]))\n",
    "        ans = np.reshape(res, (6, 24))\n",
    "        l_ind = []\n",
    "        probs = []\n",
    "        for a in ans:\n",
    "            l_ind.append(np.argmax(a))\n",
    "            #probs.append(np.max(a))\n",
    "\n",
    "        capt = ''\n",
    "        for l in l_ind:\n",
    "            capt += symbols[l]\n",
    "        return capt#, sum(probs) / 6\n",
    "    else:\n",
    "        print(\"No Image in mentioned path\");\n"
   ]
  },
  {
   "cell_type": "code",
   "execution_count": 30,
   "metadata": {},
   "outputs": [
    {
     "name": "stdout",
     "output_type": "stream",
     "text": [
      "1836/1836 [==============================] - 17s 10ms/step\n",
      "Test Loss and accuracy: [1.714431059905906, 0.05376142369838018, 0.0997042681591703, 0.17155320060181722, 0.3029514689298756, 0.6208752096348599, 0.46558550188484277, 0.9950980392156863, 0.9814814814814815, 0.9629629629629629, 0.9537037037037037, 0.8981481482780057, 0.933551198127223]\n"
     ]
    }
   ],
   "source": [
    "score= model.evaluate(X_test,[y_test[0], y_test[1], y_test[2], y_test[3], y_test[4],y_test[5]],verbose=1)\n",
    "print('Test Loss and accuracy:', score)"
   ]
  },
  {
   "cell_type": "code",
   "execution_count": 31,
   "metadata": {},
   "outputs": [
    {
     "name": "stdout",
     "output_type": "stream",
     "text": [
      "CKHTUM\n"
     ]
    }
   ],
   "source": [
    "#model.evaluate(X_test, [y_test[0], y_test[1], y_test[2], y_test[3], y_test[4]])\n",
    "print(predict('C:/Users/user/Downloads/captchass/images/CKHTUM.jpg'))\n"
   ]
  },
  {
   "cell_type": "code",
   "execution_count": null,
   "metadata": {},
   "outputs": [],
   "source": []
  }
 ],
 "metadata": {
  "kernelspec": {
   "display_name": "Python 3",
   "language": "python",
   "name": "python3"
  },
  "language_info": {
   "codemirror_mode": {
    "name": "ipython",
    "version": 3
   },
   "file_extension": ".py",
   "mimetype": "text/x-python",
   "name": "python",
   "nbconvert_exporter": "python",
   "pygments_lexer": "ipython3",
   "version": "3.7.3"
  }
 },
 "nbformat": 4,
 "nbformat_minor": 2
}
